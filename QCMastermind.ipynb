{
 "cells": [
  {
   "cell_type": "markdown",
   "metadata": {},
   "source": [
    "# Quantum Circuit Mastermind"
   ]
  },
  {
   "cell_type": "markdown",
   "metadata": {},
   "source": [
    "This game lets the players deduce which qubits have started out as 0 and 1 based on the circuit diagram and the result of a single calculation."
   ]
  },
  {
   "cell_type": "code",
   "execution_count": null,
   "metadata": {},
   "outputs": [],
   "source": [
    "%matplotlib inline\n",
    "# Importing standard Qiskit libraries and configuring account\n",
    "from qiskit import QuantumCircuit, execute, Aer, IBMQ\n",
    "from qiskit.compiler import transpile, assemble\n",
    "from qiskit.tools.jupyter import *\n",
    "from qiskit.visualization import *\n",
    "from qiskit.providers.ibmq import least_busy\n",
    "from qiskit import ClassicalRegister, QuantumRegister\n",
    "\n",
    "#import math stuff\n",
    "import math\n",
    "import numpy as np\n",
    "import random\n",
    "\n",
    "#import the library for generating random circuits\n",
    "import qiskit.ignis.verification.randomized_benchmarking as rb\n",
    "\n",
    "#Import general libraries (needed for functions)\n",
    "import matplotlib.pyplot as plt\n",
    "from IPython import display\n",
    "\n",
    "#Import Qiskit classes classes\n",
    "import qiskit\n",
    "from qiskit.providers.aer.noise import NoiseModel\n",
    "from qiskit.providers.aer.noise.errors.standard_errors import depolarizing_error, thermal_relaxation_error\n",
    "\n",
    "#Import the RB Functions\n",
    "import qiskit.ignis.verification.randomized_benchmarking as rb\n",
    "\n",
    "# Loading your IBM Q account(s)\n",
    "provider = IBMQ.load_account()"
   ]
  },
  {
   "cell_type": "markdown",
   "metadata": {},
   "source": [
    "You can change the number of qubits to adjust the difficulty of the game."
   ]
  },
  {
   "cell_type": "code",
   "execution_count": null,
   "metadata": {},
   "outputs": [],
   "source": [
    "#Number of qubits 1-5, more is harder and default is 5.\n",
    "nQ = 5"
   ]
  },
  {
   "cell_type": "markdown",
   "metadata": {},
   "source": [
    "Next we generate a random circuit and show you the diagram."
   ]
  },
  {
   "cell_type": "code",
   "execution_count": null,
   "metadata": {},
   "outputs": [],
   "source": [
    "nseeds = 1\n",
    "nCliffs = np.arange(1,300,10)\n",
    "rb_pattern = [[0,1],[2],[3,4]]\n",
    "length_multiplier = [1,2,1]\n",
    "align_cliffs=True\n",
    "\n",
    "rb_opts = {}\n",
    "rb_opts['length_vector'] = nCliffs\n",
    "rb_opts['nseeds'] = nseeds\n",
    "rb_opts['rb_pattern'] = rb_pattern\n",
    "rb_opts['align_cliffs'] = align_cliffs\n",
    "rb_opts['length_multiplier'] = length_multiplier\n",
    "rb_circs, xdata = rb.randomized_benchmarking_seq(**rb_opts)\n",
    "\n",
    "qc_puzzle = qiskit.QuantumCircuit(*rb_circs[0][0].qregs,*rb_circs[0][0].cregs)\n",
    "x = 0\n",
    "for i in rb_circs[0][0][0:-nQ]:\n",
    "    x = x+1\n",
    "    if x % 3 != 0:\n",
    "        qc_puzzle.data.append(i)\n",
    "qc_puzzle.measure(*rb_circs[0][0].qregs,*rb_circs[0][0].cregs)\n",
    "qc_puzzle.draw()"
   ]
  },
  {
   "cell_type": "markdown",
   "metadata": {},
   "source": [
    "We generate the solution of the challenge."
   ]
  },
  {
   "cell_type": "code",
   "execution_count": null,
   "metadata": {},
   "outputs": [],
   "source": [
    "qc = qiskit.QuantumCircuit(*rb_circs[0][0].qregs,*rb_circs[0][0].cregs)\n",
    "turn = 0\n",
    "ans = []\n",
    "for i in range(0,5):\n",
    "    if random.random() > 0.5:\n",
    "        qc.x(i)\n",
    "        ans.append(1)\n",
    "    else:\n",
    "        ans.append(0)\n",
    "    qc.barrier(i)\n",
    "for i in qc_puzzle.data:\n",
    "    qc.data.append(i)"
   ]
  },
  {
   "cell_type": "markdown",
   "metadata": {},
   "source": [
    "Now we are ready to run the calculation once and show you the result."
   ]
  },
  {
   "cell_type": "code",
   "execution_count": null,
   "metadata": {},
   "outputs": [],
   "source": [
    "backend = least_busy(IBMQ.get_provider().backends(simulator=True))\n",
    "job_exp = execute(qc, backend=backend, shots=1, max_credits=3)\n",
    "job_exp.result().get_counts(qc)"
   ]
  },
  {
   "cell_type": "markdown",
   "metadata": {},
   "source": [
    "Now you've seen the circuit and the result. Please give the starting values of the qubits. \n",
    "\n",
    "Each player has his own row and the number of qubits needs to match what you selected in the beginning.\n",
    "\n",
    "The program will tell which player was correct, and if they weren't, how many qubits they got wrong.\n",
    "\n",
    "You can change your answers and have another round by re-running this code block."
   ]
  },
  {
   "cell_type": "code",
   "execution_count": null,
   "metadata": {},
   "outputs": [],
   "source": [
    "#Two Players and Five Qubits is the default\n",
    "guesses = [[1, 1, 0, 1, 1], #Player 1\n",
    "           [0, 0, 0, 0, 1]] #Player 2\n",
    "\n",
    "p = 0\n",
    "turn = turn + 1\n",
    "print(\"Turn \", turn, \" starting...\")\n",
    "for g in guesses:\n",
    "    p = p + 1\n",
    "    z = 0\n",
    "    if g == ans:\n",
    "        print(\"Hooray! Player \", p, \" is correct.\")\n",
    "    else:\n",
    "        for x in range(0,nQ):\n",
    "            z = z + abs(ans[x] - g[x])\n",
    "        print(\"Player \", p, \" got \", z, \" qubits wrong.\")"
   ]
  },
  {
   "cell_type": "markdown",
   "metadata": {},
   "source": [
    "Let us finally look at the whole circuit with the X gates that set the initial conditions that were to be guessed and print out the answer in plain."
   ]
  },
  {
   "cell_type": "code",
   "execution_count": null,
   "metadata": {},
   "outputs": [],
   "source": [
    "qc.draw()"
   ]
  },
  {
   "cell_type": "code",
   "execution_count": null,
   "metadata": {},
   "outputs": [],
   "source": [
    "ans"
   ]
  }
 ],
 "metadata": {
  "kernelspec": {
   "display_name": "Python 3",
   "language": "python",
   "name": "python3"
  },
  "language_info": {
   "codemirror_mode": {
    "name": "ipython",
    "version": 3
   },
   "file_extension": ".py",
   "mimetype": "text/x-python",
   "name": "python",
   "nbconvert_exporter": "python",
   "pygments_lexer": "ipython3",
   "version": "3.7.3"
  }
 },
 "nbformat": 4,
 "nbformat_minor": 2
}
